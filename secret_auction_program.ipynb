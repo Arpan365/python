{
 "cells": [
  {
   "cell_type": "code",
   "execution_count": 30,
   "id": "5266de11",
   "metadata": {},
   "outputs": [
    {
     "name": "stdout",
     "output_type": "stream",
     "text": [
      "Enter the name: arpan\n",
      "Enter the bidding price: 43\n",
      "Do you want to continue? write yes or no: yes\n",
      "Enter the name: aritra\n",
      "Enter the bidding price: 44\n",
      "Do you want to continue? write yes or no: yes\n",
      "Enter the name: litan\n",
      "Enter the bidding price: 645\n",
      "Do you want to continue? write yes or no: yes\n",
      "Enter the name: machine\n",
      "Enter the bidding price: 434\n",
      "Do you want to continue? write yes or no: no\n",
      "machine\n",
      "Goodbye\n"
     ]
    }
   ],
   "source": [
    "\n",
    "list1=[]\n",
    "bidding_info={}\n",
    "def bidders_info(name,price):        \n",
    "    bidding_info[name]=price\n",
    "    list1.append(bidding_info)\n",
    "end=False\n",
    "while not end:\n",
    "    name=input(\"Enter the name: \")\n",
    "    price=input(\"Enter the bidding price: \")\n",
    "    bidders_info(name,price)\n",
    "    Restart=input(\"Do you want to continue? write yes or no: \")\n",
    "    if Restart=='no':\n",
    "        winner=max(bidding_info.keys())\n",
    "        print(winner)\n",
    "        end==True\n",
    "        print(\"Goodbye\")\n",
    "        break"
   ]
  },
  {
   "cell_type": "code",
   "execution_count": 51,
   "id": "e8158302",
   "metadata": {},
   "outputs": [
    {
     "ename": "TypeError",
     "evalue": "'>' not supported between instances of 'int' and 'str'",
     "output_type": "error",
     "traceback": [
      "\u001b[1;31m---------------------------------------------------------------------------\u001b[0m",
      "\u001b[1;31mTypeError\u001b[0m                                 Traceback (most recent call last)",
      "Input \u001b[1;32mIn [51]\u001b[0m, in \u001b[0;36m<cell line: 1>\u001b[1;34m()\u001b[0m\n\u001b[1;32m----> 1\u001b[0m a\u001b[38;5;241m=\u001b[39m\u001b[38;5;28;43mmax\u001b[39;49m\u001b[43m(\u001b[49m\u001b[43mbidding_info\u001b[49m\u001b[38;5;241;43m.\u001b[39;49m\u001b[43mvalues\u001b[49m\u001b[43m(\u001b[49m\u001b[43m)\u001b[49m\u001b[43m)\u001b[49m\n\u001b[0;32m      2\u001b[0m bidding_info[a]\u001b[38;5;241m=\u001b[39m\u001b[38;5;241m645\u001b[39m\n\u001b[0;32m      3\u001b[0m a\n",
      "\u001b[1;31mTypeError\u001b[0m: '>' not supported between instances of 'int' and 'str'"
     ]
    }
   ],
   "source": [
    "a=max(bidding_info.values())\n",
    "bidding_info[a]=645\n",
    "a"
   ]
  },
  {
   "cell_type": "code",
   "execution_count": 27,
   "id": "7d5f4383",
   "metadata": {},
   "outputs": [
    {
     "data": {
      "text/plain": [
       "{'arpan': '23', 'litan': '54', 'aritra': '53'}"
      ]
     },
     "execution_count": 27,
     "metadata": {},
     "output_type": "execute_result"
    }
   ],
   "source": [
    "bidding_info"
   ]
  },
  {
   "cell_type": "code",
   "execution_count": 12,
   "id": "718cb60b",
   "metadata": {},
   "outputs": [
    {
     "name": "stdout",
     "output_type": "stream",
     "text": [
      "kf\n"
     ]
    }
   ],
   "source": [
    "winner=max(bidding_info.keys())\n",
    "print(winner)"
   ]
  },
  {
   "cell_type": "code",
   "execution_count": null,
   "id": "ae9a3f25",
   "metadata": {},
   "outputs": [],
   "source": []
  }
 ],
 "metadata": {
  "kernelspec": {
   "display_name": "Python 3 (ipykernel)",
   "language": "python",
   "name": "python3"
  },
  "language_info": {
   "codemirror_mode": {
    "name": "ipython",
    "version": 3
   },
   "file_extension": ".py",
   "mimetype": "text/x-python",
   "name": "python",
   "nbconvert_exporter": "python",
   "pygments_lexer": "ipython3",
   "version": "3.10.5"
  }
 },
 "nbformat": 4,
 "nbformat_minor": 5
}
