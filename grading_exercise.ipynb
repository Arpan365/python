{
 "cells": [
  {
   "cell_type": "code",
   "execution_count": 1,
   "id": "25f23ea5",
   "metadata": {},
   "outputs": [],
   "source": [
    "student_scores={\n",
    "    \"Harry\":81,\n",
    "    \"Ron\":78,\n",
    "    \"Hermione\":99,\n",
    "    \"Draco\":74,\n",
    "    \"Neville\":62,\n",
    "}"
   ]
  },
  {
   "cell_type": "code",
   "execution_count": 2,
   "id": "a1269dc4",
   "metadata": {},
   "outputs": [
    {
     "data": {
      "text/plain": [
       "{'Harry': 81, 'Ron': 78, 'Hermione': 99, 'Draco': 74, 'Neville': 62}"
      ]
     },
     "execution_count": 2,
     "metadata": {},
     "output_type": "execute_result"
    }
   ],
   "source": [
    "student_scores"
   ]
  },
  {
   "cell_type": "code",
   "execution_count": 3,
   "id": "f28dcbd1",
   "metadata": {},
   "outputs": [],
   "source": [
    "grad_dict={}"
   ]
  },
  {
   "cell_type": "code",
   "execution_count": 4,
   "id": "1aff1248",
   "metadata": {},
   "outputs": [
    {
     "name": "stdout",
     "output_type": "stream",
     "text": [
      "{'Harry': 'Exceeds Expectation', 'Ron': 'Acceptable', 'Hermione': 'Outstanding', 'Draco': 'Acceptable', 'Neville': 'Fail'}\n"
     ]
    }
   ],
   "source": [
    "for students in student_scores:\n",
    "    marks=student_scores[students]\n",
    "    if marks>=91:\n",
    "        grad_dict[students]=\"Outstanding\"\n",
    "    elif marks>=81:\n",
    "        grad_dict[students]=\"Exceeds Expectation\"\n",
    "    elif marks>=71:\n",
    "        grad_dict[students]=\"Acceptable\"\n",
    "    else:\n",
    "        grad_dict[students]=\"Fail\"\n",
    "print(grad_dict)"
   ]
  },
  {
   "cell_type": "code",
   "execution_count": null,
   "id": "23925430",
   "metadata": {},
   "outputs": [],
   "source": []
  }
 ],
 "metadata": {
  "kernelspec": {
   "display_name": "Python 3 (ipykernel)",
   "language": "python",
   "name": "python3"
  },
  "language_info": {
   "codemirror_mode": {
    "name": "ipython",
    "version": 3
   },
   "file_extension": ".py",
   "mimetype": "text/x-python",
   "name": "python",
   "nbconvert_exporter": "python",
   "pygments_lexer": "ipython3",
   "version": "3.10.5"
  }
 },
 "nbformat": 4,
 "nbformat_minor": 5
}
