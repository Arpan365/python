{
 "cells": [
  {
   "cell_type": "code",
   "execution_count": 11,
   "id": "1774f006",
   "metadata": {},
   "outputs": [
    {
     "name": "stdout",
     "output_type": "stream",
     "text": [
      "[{'country': 'France', 'cities_visited': ['Paris', 'Lille', 'Dijon'], 'total_visits': 12}, {'country': 'Germary', 'cities_visited': ['Berlin', 'Hamberg', 'Stuttgart'], 'total_visits': 5}, {'country': 'Russia', 'cities_visited': ['Moscow', 'Saint Petersburg'], 'total_visits': 2}]\n"
     ]
    }
   ],
   "source": [
    "travel_log=[\n",
    "    {\"country\":\"France\",\n",
    "     \"cities_visited\":[\"Paris\",\"Lille\",\"Dijon\"],\n",
    "     \"total_visits\":12},\n",
    "    {\"country\":\"Germary\",\n",
    "     \"cities_visited\":[\"Berlin\",\"Hamberg\",\"Stuttgart\"],\n",
    "     \"total_visits\":5},\n",
    "]\n",
    "\n",
    "def add_new_country(country_name,cities_visited,total_visits):\n",
    "    new_country={}\n",
    "    new_country[\"country\"]=country_name\n",
    "    new_country[\"cities_visited\"]=cities_visited\n",
    "    new_country[\"total_visits\"]=total_visits\n",
    "    travel_log.append(new_country)\n",
    "\n",
    "add_new_country(\"Russia\", [\"Moscow\", \"Saint Petersburg\"], 2)\n",
    "print(travel_log)"
   ]
  }
 ],
 "metadata": {
  "kernelspec": {
   "display_name": "Python 3 (ipykernel)",
   "language": "python",
   "name": "python3"
  },
  "language_info": {
   "codemirror_mode": {
    "name": "ipython",
    "version": 3
   },
   "file_extension": ".py",
   "mimetype": "text/x-python",
   "name": "python",
   "nbconvert_exporter": "python",
   "pygments_lexer": "ipython3",
   "version": "3.10.5"
  }
 },
 "nbformat": 4,
 "nbformat_minor": 5
}
