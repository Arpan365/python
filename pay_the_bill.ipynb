{
 "cells": [
  {
   "cell_type": "code",
   "execution_count": 1,
   "id": "abfabf1a",
   "metadata": {},
   "outputs": [
    {
     "name": "stdout",
     "output_type": "stream",
     "text": [
      "Give me everyones names, separated by commaArpan, Ghosh, Bishal, Susovan, Soham, Arka\n"
     ]
    }
   ],
   "source": [
    "import random\n",
    "names_strings=input(\"Give me everyones names, separated by comma\")"
   ]
  },
  {
   "cell_type": "code",
   "execution_count": 2,
   "id": "a027ad96",
   "metadata": {},
   "outputs": [
    {
     "data": {
      "text/plain": [
       "['Arpan', 'Ghosh', 'Bishal', 'Susovan', 'Soham', 'Arka']"
      ]
     },
     "execution_count": 2,
     "metadata": {},
     "output_type": "execute_result"
    }
   ],
   "source": [
    "names=names_strings.split(\", \")\n",
    "names"
   ]
  },
  {
   "cell_type": "code",
   "execution_count": 3,
   "id": "c3d05146",
   "metadata": {},
   "outputs": [
    {
     "name": "stdout",
     "output_type": "stream",
     "text": [
      "Arka will pay the bill\n"
     ]
    }
   ],
   "source": [
    "num_iter=len(names)\n",
    "random_choice=random.randint(0,(num_iter-1))\n",
    "random_choice\n",
    "Who_will_pay_the_bill=names[random_choice]\n",
    "print(f\"{Who_will_pay_the_bill} will pay the bill\")"
   ]
  },
  {
   "cell_type": "markdown",
   "id": "75988346",
   "metadata": {},
   "source": [
    "# Secondary Method/ Shortcut by using \"random.choice\""
   ]
  },
  {
   "cell_type": "code",
   "execution_count": 4,
   "id": "6f77dc85",
   "metadata": {},
   "outputs": [
    {
     "name": "stdout",
     "output_type": "stream",
     "text": [
      "Arpan will pay the bill\n"
     ]
    }
   ],
   "source": [
    "Who_will_pay_the_bill=random.choice(names)\n",
    "print(f\"{Who_will_pay_the_bill} will pay the bill\")"
   ]
  },
  {
   "cell_type": "code",
   "execution_count": null,
   "id": "33cd5345",
   "metadata": {},
   "outputs": [],
   "source": []
  }
 ],
 "metadata": {
  "kernelspec": {
   "display_name": "Python 3 (ipykernel)",
   "language": "python",
   "name": "python3"
  },
  "language_info": {
   "codemirror_mode": {
    "name": "ipython",
    "version": 3
   },
   "file_extension": ".py",
   "mimetype": "text/x-python",
   "name": "python",
   "nbconvert_exporter": "python",
   "pygments_lexer": "ipython3",
   "version": "3.10.5"
  }
 },
 "nbformat": 4,
 "nbformat_minor": 5
}
