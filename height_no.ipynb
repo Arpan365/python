{
 "cells": [
  {
   "cell_type": "code",
   "execution_count": 1,
   "id": "aa293f4c",
   "metadata": {},
   "outputs": [
    {
     "name": "stdout",
     "output_type": "stream",
     "text": [
      "Input the marks of the student :97 85 94 32 56 57 67 58 52 84 86\n",
      "[97, 85, 94, 32, 56, 57, 67, 58, 52, 84, 86]\n"
     ]
    }
   ],
   "source": [
    "student_score=input(\"Input the marks of the student :\").split()\n",
    "for n in range(0,len(student_score)):\n",
    "    student_score[n]=int(student_score[n])\n",
    "print(student_score)"
   ]
  },
  {
   "cell_type": "code",
   "execution_count": 2,
   "id": "36f5386b",
   "metadata": {},
   "outputs": [
    {
     "name": "stdout",
     "output_type": "stream",
     "text": [
      "THE HIGHEST SCORE OF THE CLASS IS 97 AND THE LOWEST SCORE OF THE CLASS IS 32\n"
     ]
    }
   ],
   "source": [
    "highest_score=0\n",
    "lowest_score=100\n",
    "for score in student_score:\n",
    "    if highest_score<score:\n",
    "        highest_score=score\n",
    "    if lowest_score>score:\n",
    "        lowest_score=score\n",
    "print(f\"THE HIGHEST SCORE OF THE CLASS IS {highest_score} AND THE LOWEST SCORE OF THE CLASS IS {lowest_score}\")"
   ]
  }
 ],
 "metadata": {
  "kernelspec": {
   "display_name": "Python 3 (ipykernel)",
   "language": "python",
   "name": "python3"
  },
  "language_info": {
   "codemirror_mode": {
    "name": "ipython",
    "version": 3
   },
   "file_extension": ".py",
   "mimetype": "text/x-python",
   "name": "python",
   "nbconvert_exporter": "python",
   "pygments_lexer": "ipython3",
   "version": "3.10.5"
  }
 },
 "nbformat": 4,
 "nbformat_minor": 5
}
