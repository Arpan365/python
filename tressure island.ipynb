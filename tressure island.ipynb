{
 "cells": [
  {
   "cell_type": "code",
   "execution_count": null,
   "id": "f971b233",
   "metadata": {},
   "outputs": [
    {
     "name": "stdout",
     "output_type": "stream",
     "text": [
      "Welcome to tressure island.\n",
      "Your mission is to find the Tressure.\n"
     ]
    }
   ],
   "source": [
    "print(\"Welcome to tressure island.\\nYour mission is to find the Tressure.\")\n",
    "Dir1=input(\"Do you wanna go right or left?\")\n",
    "Dir11=Dir1.lower()\n",
    "if Dir11=='right':\n",
    "    print('GAME OVER')\n",
    "else:\n",
    "    Dir2=input('Do you want to swim or wait?')\n",
    "    Dir22=Dir2.lower()\n",
    "    if Dir22=='swim':\n",
    "        print('GAME OVER')\n",
    "    else:\n",
    "        D3=input('Which Door you want to use ?')\n",
    "        D33=D3.lower()\n",
    "        if D33=='red':\n",
    "            print('GAME OVER')\n",
    "        elif D33=='blue':\n",
    "            print('GAME OVER')\n",
    "        else:\n",
    "            print('YOU WIN')"
   ]
  },
  {
   "cell_type": "code",
   "execution_count": null,
   "id": "244312f5",
   "metadata": {},
   "outputs": [],
   "source": []
  },
  {
   "cell_type": "code",
   "execution_count": null,
   "id": "10deb77d",
   "metadata": {},
   "outputs": [],
   "source": []
  },
  {
   "cell_type": "code",
   "execution_count": null,
   "id": "49c50af7",
   "metadata": {},
   "outputs": [],
   "source": []
  }
 ],
 "metadata": {
  "kernelspec": {
   "display_name": "Python 3 (ipykernel)",
   "language": "python",
   "name": "python3"
  },
  "language_info": {
   "codemirror_mode": {
    "name": "ipython",
    "version": 3
   },
   "file_extension": ".py",
   "mimetype": "text/x-python",
   "name": "python",
   "nbconvert_exporter": "python",
   "pygments_lexer": "ipython3",
   "version": "3.10.5"
  }
 },
 "nbformat": 4,
 "nbformat_minor": 5
}
