{
 "cells": [
  {
   "cell_type": "code",
   "execution_count": 18,
   "id": "836cb3dc",
   "metadata": {},
   "outputs": [
    {
     "name": "stdout",
     "output_type": "stream",
     "text": [
      "Input a list of students heights 170 172 174 176 178 180\n",
      "[170, 172, 174, 176, 178, 180]\n",
      "The no of student is 6 So the average height of the student is 175.0\n"
     ]
    }
   ],
   "source": [
    "student_height=input(\"Input a list of students heights \").split()\n",
    "p=0\n",
    "i=0\n",
    "for n in range(0, len(student_height)):\n",
    "    student_height[n]=int(student_height[n])\n",
    "    p=p+student_height[n]\n",
    "    i=i+1\n",
    "    average_height_of_student=p/i\n",
    "print(student_height)\n",
    "print(f\"The no of student is {i} So the average height of the student is {average_height_of_student}\")"
   ]
  }
 ],
 "metadata": {
  "kernelspec": {
   "display_name": "Python 3 (ipykernel)",
   "language": "python",
   "name": "python3"
  },
  "language_info": {
   "codemirror_mode": {
    "name": "ipython",
    "version": 3
   },
   "file_extension": ".py",
   "mimetype": "text/x-python",
   "name": "python",
   "nbconvert_exporter": "python",
   "pygments_lexer": "ipython3",
   "version": "3.10.5"
  }
 },
 "nbformat": 4,
 "nbformat_minor": 5
}
