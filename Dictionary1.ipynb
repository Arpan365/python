{
 "cells": [
  {
   "cell_type": "code",
   "execution_count": 1,
   "id": "a506d3cd",
   "metadata": {},
   "outputs": [],
   "source": [
    "programming_dictionary={\n",
    "    \"Bug\":\"An error in a program that prevents the program from running as expected\"}"
   ]
  },
  {
   "cell_type": "code",
   "execution_count": 2,
   "id": "9be9f94a",
   "metadata": {},
   "outputs": [
    {
     "name": "stdout",
     "output_type": "stream",
     "text": [
      "An error in a program that prevents the program from running as expected\n"
     ]
    }
   ],
   "source": [
    "print(programming_dictionary[\"Bug\"])"
   ]
  },
  {
   "cell_type": "code",
   "execution_count": null,
   "id": "39751884",
   "metadata": {},
   "outputs": [],
   "source": []
  },
  {
   "cell_type": "markdown",
   "id": "fa2a1b8e",
   "metadata": {},
   "source": [
    "# adding new items to dictionary\n"
   ]
  },
  {
   "cell_type": "code",
   "execution_count": 5,
   "id": "831c1655",
   "metadata": {},
   "outputs": [],
   "source": [
    "programming_dictionary[\"loop\"]=\"The action of doing something over and over aging\""
   ]
  },
  {
   "cell_type": "code",
   "execution_count": 6,
   "id": "699631c8",
   "metadata": {},
   "outputs": [
    {
     "data": {
      "text/plain": [
       "{'Bug': 'An error in a program that prevents the program from running as expected',\n",
       " 'loop': 'The action of doing something over and over aging'}"
      ]
     },
     "execution_count": 6,
     "metadata": {},
     "output_type": "execute_result"
    }
   ],
   "source": [
    "programming_dictionary"
   ]
  },
  {
   "cell_type": "markdown",
   "id": "edc94cb4",
   "metadata": {},
   "source": [
    "# creating an empty dictionary"
   ]
  },
  {
   "cell_type": "code",
   "execution_count": 7,
   "id": "46698e0f",
   "metadata": {},
   "outputs": [],
   "source": [
    "empty_dict={}"
   ]
  },
  {
   "cell_type": "code",
   "execution_count": 8,
   "id": "e337b28c",
   "metadata": {},
   "outputs": [
    {
     "data": {
      "text/plain": [
       "{}"
      ]
     },
     "execution_count": 8,
     "metadata": {},
     "output_type": "execute_result"
    }
   ],
   "source": [
    "empty_dict"
   ]
  },
  {
   "cell_type": "markdown",
   "id": "f778d17d",
   "metadata": {},
   "source": [
    "# wipe an existing dictionary"
   ]
  },
  {
   "cell_type": "code",
   "execution_count": 9,
   "id": "3795d4aa",
   "metadata": {},
   "outputs": [],
   "source": [
    "programming_dictionary[\"Bug\"]=\"An moth in my computer\""
   ]
  },
  {
   "cell_type": "code",
   "execution_count": 10,
   "id": "101214fe",
   "metadata": {},
   "outputs": [
    {
     "data": {
      "text/plain": [
       "{'Bug': 'An moth in my computer',\n",
       " 'loop': 'The action of doing something over and over aging'}"
      ]
     },
     "execution_count": 10,
     "metadata": {},
     "output_type": "execute_result"
    }
   ],
   "source": [
    "programming_dictionary"
   ]
  },
  {
   "cell_type": "markdown",
   "id": "76b3258c",
   "metadata": {},
   "source": [
    "# Loop through a dictionary"
   ]
  },
  {
   "cell_type": "code",
   "execution_count": 13,
   "id": "c9179d5a",
   "metadata": {},
   "outputs": [
    {
     "name": "stdout",
     "output_type": "stream",
     "text": [
      "Bug\n",
      "An moth in my computer\n",
      "loop\n",
      "The action of doing something over and over aging\n"
     ]
    }
   ],
   "source": [
    "for key in programming_dictionary:\n",
    "    print(key)\n",
    "    print(programming_dictionary[key])"
   ]
  },
  {
   "cell_type": "code",
   "execution_count": null,
   "id": "9fdf541a",
   "metadata": {},
   "outputs": [],
   "source": []
  }
 ],
 "metadata": {
  "kernelspec": {
   "display_name": "Python 3 (ipykernel)",
   "language": "python",
   "name": "python3"
  },
  "language_info": {
   "codemirror_mode": {
    "name": "ipython",
    "version": 3
   },
   "file_extension": ".py",
   "mimetype": "text/x-python",
   "name": "python",
   "nbconvert_exporter": "python",
   "pygments_lexer": "ipython3",
   "version": "3.10.5"
  }
 },
 "nbformat": 4,
 "nbformat_minor": 5
}
