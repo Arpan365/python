{
 "cells": [
  {
   "cell_type": "markdown",
   "id": "9405a02c",
   "metadata": {},
   "source": [
    "# Nesting"
   ]
  },
  {
   "cell_type": "code",
   "execution_count": 1,
   "id": "5ed586c0",
   "metadata": {},
   "outputs": [],
   "source": [
    "capitals={\n",
    "    \"France\":\"Paris\",\n",
    "    \"Germany\":\"Berlin\",\n",
    "}"
   ]
  },
  {
   "cell_type": "markdown",
   "id": "4b567df0",
   "metadata": {},
   "source": [
    "# Nesting a list in a dictionary"
   ]
  },
  {
   "cell_type": "code",
   "execution_count": 8,
   "id": "921d305f",
   "metadata": {},
   "outputs": [],
   "source": [
    "travel_log={\n",
    "    \"France\":{\"cities_visited\":[\"Paris\",\"Lille\",\"Dijon\"],\"total_visits\":12},\n",
    "    \"Germary\":{\"cities_visited\":[\"Berlin\",\"Hamberg\",\"Stuttgart\"],\"total_visits\":5}\n",
    "           }"
   ]
  },
  {
   "cell_type": "markdown",
   "id": "f0da6cc3",
   "metadata": {},
   "source": [
    "# Nesting Dictionary in a list"
   ]
  },
  {
   "cell_type": "code",
   "execution_count": 13,
   "id": "cbfd42d8",
   "metadata": {},
   "outputs": [],
   "source": [
    "travel_log=[\n",
    "    {\"country\":\"France\",\n",
    "     \"cities_visited\":[\"Paris\",\"Lille\",\"Dijon\"],\n",
    "     \"total_visits\":12},\n",
    "    {\"country\":\"Germary\",\n",
    "     \"cities_visited\":[\"Berlin\",\"Hamberg\",\"Stuttgart\"],\n",
    "     \"total_visits\":5},\n",
    "]"
   ]
  },
  {
   "cell_type": "code",
   "execution_count": null,
   "id": "38c21610",
   "metadata": {},
   "outputs": [],
   "source": []
  }
 ],
 "metadata": {
  "kernelspec": {
   "display_name": "Python 3 (ipykernel)",
   "language": "python",
   "name": "python3"
  },
  "language_info": {
   "codemirror_mode": {
    "name": "ipython",
    "version": 3
   },
   "file_extension": ".py",
   "mimetype": "text/x-python",
   "name": "python",
   "nbconvert_exporter": "python",
   "pygments_lexer": "ipython3",
   "version": "3.10.5"
  }
 },
 "nbformat": 4,
 "nbformat_minor": 5
}
