{
 "cells": [
  {
   "cell_type": "markdown",
   "id": "a18289fc",
   "metadata": {},
   "source": [
    "# PYTHON LIST"
   ]
  },
  {
   "cell_type": "markdown",
   "id": "1c1b566e",
   "metadata": {},
   "source": [
    "List is called data structure i.e. organising and storing data"
   ]
  },
  {
   "cell_type": "markdown",
   "id": "bbeb5d23",
   "metadata": {},
   "source": [
    "fruits=[item1, item2]"
   ]
  },
  {
   "cell_type": "code",
   "execution_count": 18,
   "id": "8c91b31b",
   "metadata": {},
   "outputs": [
    {
     "data": {
      "text/plain": [
       "['Kolkata', 'Mumbai']"
      ]
     },
     "execution_count": 18,
     "metadata": {},
     "output_type": "execute_result"
    }
   ],
   "source": [
    "state1=\"Kolkata\"\n",
    "state2=\"Mumbai\"\n",
    "states_of_India=[\"Kolkata\",\"Mumbai\"]\n",
    "states_of_India"
   ]
  },
  {
   "cell_type": "code",
   "execution_count": 19,
   "id": "eb988b77",
   "metadata": {},
   "outputs": [
    {
     "data": {
      "text/plain": [
       "'Mumbai'"
      ]
     },
     "execution_count": 19,
     "metadata": {},
     "output_type": "execute_result"
    }
   ],
   "source": [
    "states_of_India[1]"
   ]
  },
  {
   "cell_type": "code",
   "execution_count": 20,
   "id": "cc0d2d42",
   "metadata": {},
   "outputs": [],
   "source": [
    "states_of_India[1]='chennai'"
   ]
  },
  {
   "cell_type": "code",
   "execution_count": 21,
   "id": "b51c537b",
   "metadata": {},
   "outputs": [
    {
     "data": {
      "text/plain": [
       "['Kolkata', 'chennai']"
      ]
     },
     "execution_count": 21,
     "metadata": {},
     "output_type": "execute_result"
    }
   ],
   "source": [
    "states_of_India"
   ]
  },
  {
   "cell_type": "code",
   "execution_count": 22,
   "id": "7b0f1a03",
   "metadata": {},
   "outputs": [],
   "source": [
    "states_of_India.append(\"Delhi\")"
   ]
  },
  {
   "cell_type": "code",
   "execution_count": 23,
   "id": "1cb02697",
   "metadata": {},
   "outputs": [
    {
     "data": {
      "text/plain": [
       "['Kolkata', 'chennai', 'Delhi']"
      ]
     },
     "execution_count": 23,
     "metadata": {},
     "output_type": "execute_result"
    }
   ],
   "source": [
    "states_of_India"
   ]
  },
  {
   "cell_type": "code",
   "execution_count": 24,
   "id": "167461aa",
   "metadata": {},
   "outputs": [],
   "source": [
    "states_of_India.append([\"Bangalore\",\"Hyderabad\"])"
   ]
  },
  {
   "cell_type": "code",
   "execution_count": 25,
   "id": "33002c6b",
   "metadata": {},
   "outputs": [
    {
     "data": {
      "text/plain": [
       "['Kolkata', 'chennai', 'Delhi', ['Bangalore', 'Hyderabad']]"
      ]
     },
     "execution_count": 25,
     "metadata": {},
     "output_type": "execute_result"
    }
   ],
   "source": [
    "states_of_India"
   ]
  },
  {
   "cell_type": "code",
   "execution_count": 30,
   "id": "5c5de077",
   "metadata": {},
   "outputs": [],
   "source": [
    "states_of_India.extend(['Kanpur'])"
   ]
  },
  {
   "cell_type": "code",
   "execution_count": 31,
   "id": "18ea6f34",
   "metadata": {},
   "outputs": [
    {
     "data": {
      "text/plain": [
       "['Kolkata',\n",
       " 'chennai',\n",
       " 'Delhi',\n",
       " ['Bangalore', 'Hyderabad'],\n",
       " 'K',\n",
       " 'a',\n",
       " 'n',\n",
       " 'p',\n",
       " 'u',\n",
       " 'r',\n",
       " 'Kanpur',\n",
       " 'Kanpur']"
      ]
     },
     "execution_count": 31,
     "metadata": {},
     "output_type": "execute_result"
    }
   ],
   "source": [
    "states_of_India"
   ]
  },
  {
   "cell_type": "code",
   "execution_count": 32,
   "id": "736d24fb",
   "metadata": {},
   "outputs": [],
   "source": [
    "states_of_India.extend(\"Lucknow\")"
   ]
  },
  {
   "cell_type": "code",
   "execution_count": 33,
   "id": "04e542cf",
   "metadata": {},
   "outputs": [
    {
     "data": {
      "text/plain": [
       "['Kolkata',\n",
       " 'chennai',\n",
       " 'Delhi',\n",
       " ['Bangalore', 'Hyderabad'],\n",
       " 'K',\n",
       " 'a',\n",
       " 'n',\n",
       " 'p',\n",
       " 'u',\n",
       " 'r',\n",
       " 'Kanpur',\n",
       " 'Kanpur',\n",
       " 'L',\n",
       " 'u',\n",
       " 'c',\n",
       " 'k',\n",
       " 'n',\n",
       " 'o',\n",
       " 'w']"
      ]
     },
     "execution_count": 33,
     "metadata": {},
     "output_type": "execute_result"
    }
   ],
   "source": [
    "states_of_India"
   ]
  },
  {
   "cell_type": "code",
   "execution_count": null,
   "id": "c5604cfc",
   "metadata": {},
   "outputs": [],
   "source": []
  }
 ],
 "metadata": {
  "kernelspec": {
   "display_name": "Python 3 (ipykernel)",
   "language": "python",
   "name": "python3"
  },
  "language_info": {
   "codemirror_mode": {
    "name": "ipython",
    "version": 3
   },
   "file_extension": ".py",
   "mimetype": "text/x-python",
   "name": "python",
   "nbconvert_exporter": "python",
   "pygments_lexer": "ipython3",
   "version": "3.10.5"
  }
 },
 "nbformat": 4,
 "nbformat_minor": 5
}
