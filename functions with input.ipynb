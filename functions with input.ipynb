{
 "cells": [
  {
   "cell_type": "code",
   "execution_count": 1,
   "id": "0e310919",
   "metadata": {},
   "outputs": [
    {
     "name": "stdout",
     "output_type": "stream",
     "text": [
      "Hello. \n",
      "My name is Arpan Das.\n",
      "I am a student of IIT(ISM), Dhanbad\n"
     ]
    }
   ],
   "source": [
    "def myself():\n",
    "    print('Hello. \\nMy name is Arpan Das.\\nI am a student of IIT(ISM), Dhanbad')   \n",
    "myself()"
   ]
  },
  {
   "cell_type": "markdown",
   "id": "007b49c7",
   "metadata": {},
   "source": [
    "# Function that allows for input"
   ]
  },
  {
   "cell_type": "code",
   "execution_count": 2,
   "id": "c8abf6e4",
   "metadata": {},
   "outputs": [
    {
     "name": "stdout",
     "output_type": "stream",
     "text": [
      "Hello Arpan\n",
      "How do you do Arpan\n"
     ]
    }
   ],
   "source": [
    "def greet_with_name(name):\n",
    "    print(f\"Hello {name}\")\n",
    "    print(f\"How do you do {name}\")\n",
    "\n",
    "greet_with_name(\"Arpan\")"
   ]
  },
  {
   "cell_type": "markdown",
   "id": "7cd8d828",
   "metadata": {},
   "source": [
    "# Functions with more than 1 input"
   ]
  },
  {
   "cell_type": "code",
   "execution_count": 3,
   "id": "cc74fd90",
   "metadata": {},
   "outputs": [
    {
     "name": "stdout",
     "output_type": "stream",
     "text": [
      "Hello Arpan from Kalyani\n",
      "How do you do Arpan from Kalyani\n"
     ]
    }
   ],
   "source": [
    "def greet_with(name, location):\n",
    "    print(f\"Hello {name} from {location}\")\n",
    "    print(f\"How do you do {name} from {location}\")\n",
    "greet_with(\"Arpan\",\"Kalyani\")"
   ]
  },
  {
   "cell_type": "markdown",
   "id": "0da9852f",
   "metadata": {},
   "source": [
    "# Keyword Argument"
   ]
  },
  {
   "cell_type": "code",
   "execution_count": 4,
   "id": "369171a8",
   "metadata": {},
   "outputs": [
    {
     "name": "stdout",
     "output_type": "stream",
     "text": [
      "Hello Arpan from Kalyani\n",
      "How do you do Arpan from Kalyani\n"
     ]
    }
   ],
   "source": [
    "def greet_with_kwargs(name, location):\n",
    "    print(f\"Hello {name} from {location}\")\n",
    "    print(f\"How do you do {name} from {location}\")\n",
    "greet_with(location=\"Kalyani\",name=\"Arpan\")"
   ]
  },
  {
   "cell_type": "markdown",
   "id": "4235b766",
   "metadata": {},
   "source": [
    "# Area Calculation"
   ]
  },
  {
   "cell_type": "code",
   "execution_count": 5,
   "id": "637d9fb4",
   "metadata": {},
   "outputs": [
    {
     "name": "stdout",
     "output_type": "stream",
     "text": [
      "Height of wall: 6\n",
      "Width of wall: 8\n",
      "10 cans are required to paint the wall\n"
     ]
    }
   ],
   "source": [
    "import math\n",
    "test_h=int(input(\"Height of wall: \"))\n",
    "test_w=int(input(\"Width of wall: \"))\n",
    "coverage=5\n",
    "def paint_calc(height,width,cover):\n",
    "    number_of_cans=height*width/5\n",
    "    print(f\"{math.ceil(number_of_cans)} cans are required to paint the wall\")\n",
    "paint_calc(height=test_h,width=test_w, cover=coverage)"
   ]
  },
  {
   "cell_type": "markdown",
   "id": "e5374326",
   "metadata": {},
   "source": [
    "# Prime Number checker"
   ]
  },
  {
   "cell_type": "code",
   "execution_count": 6,
   "id": "490b8587",
   "metadata": {},
   "outputs": [
    {
     "name": "stdout",
     "output_type": "stream",
     "text": [
      "Do you want to continue type y for yes and n for no: y\n",
      "check this number: 67\n",
      "This is a Prime Number\n",
      "Do you want to continue type y for yes and n for no: n\n"
     ]
    }
   ],
   "source": [
    "def prime_checker(number):\n",
    "    \n",
    "    count=0\n",
    "    for index in range(1,n+1):\n",
    "        if n%index==0:\n",
    "            count+=1        \n",
    "    if count>2:\n",
    "        print(\"This is not a Prime Number\")\n",
    "    else:\n",
    "        print(\"This is a Prime Number\")\n",
    "\n",
    "while True:\n",
    "    Response=input(\"Do you want to continue type y for yes and n for no: \")\n",
    "    if Response=='y':\n",
    "        n=int(input(\"check this number: \"))\n",
    "        prime_checker(number=n)\n",
    "    else:\n",
    "        break\n",
    "\n",
    "    "
   ]
  },
  {
   "cell_type": "code",
   "execution_count": null,
   "id": "de9930db",
   "metadata": {},
   "outputs": [],
   "source": []
  },
  {
   "cell_type": "code",
   "execution_count": null,
   "id": "08acb2ca",
   "metadata": {},
   "outputs": [],
   "source": []
  }
 ],
 "metadata": {
  "kernelspec": {
   "display_name": "Python 3 (ipykernel)",
   "language": "python",
   "name": "python3"
  },
  "language_info": {
   "codemirror_mode": {
    "name": "ipython",
    "version": 3
   },
   "file_extension": ".py",
   "mimetype": "text/x-python",
   "name": "python",
   "nbconvert_exporter": "python",
   "pygments_lexer": "ipython3",
   "version": "3.10.5"
  }
 },
 "nbformat": 4,
 "nbformat_minor": 5
}
