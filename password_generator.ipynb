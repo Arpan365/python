{
 "cells": [
  {
   "cell_type": "code",
   "execution_count": 1,
   "id": "5f15d9fd",
   "metadata": {
    "scrolled": true
   },
   "outputs": [
    {
     "name": "stdout",
     "output_type": "stream",
     "text": [
      "Welcome to the PyPassword Generator!\n",
      "How many letters would you like in your password?\n",
      "5\n",
      "How many symbols would you like?\n",
      "3\n",
      "How many numbers would you like?\n",
      "2\n"
     ]
    }
   ],
   "source": [
    "#Password Generator Project\n",
    "import random\n",
    "letters = ['a', 'b', 'c', 'd', 'e', 'f', 'g', 'h', 'i', 'j', 'k', 'l', 'm', 'n', 'o', 'p', 'q', 'r', 's', 't', 'u', 'v', 'w', 'x', 'y', 'z', 'A', 'B', 'C', 'D', 'E', 'F', 'G', 'H', 'I', 'J', 'K', 'L', 'M', 'N', 'O', 'P', 'Q', 'R', 'S', 'T', 'U', 'V', 'W', 'X', 'Y', 'Z']\n",
    "numbers = ['0', '1', '2', '3', '4', '5', '6', '7', '8', '9']\n",
    "symbols = ['!', '#', '$', '%', '&', '(', ')', '*', '+']\n",
    "\n",
    "print(\"Welcome to the PyPassword Generator!\")\n",
    "nr_letters= int(input(\"How many letters would you like in your password?\\n\")) \n",
    "nr_symbols = int(input(f\"How many symbols would you like?\\n\"))\n",
    "nr_numbers = int(input(f\"How many numbers would you like?\\n\"))\n",
    "\n",
    "#Eazy Level - Order not randomised:\n",
    "#e.g. 4 letter, 2 symbol, 2 number = JduE&!91\n",
    "\n",
    "#Hard Level - Order of characters randomised:\n",
    "#e.g. 4 letter, 2 symbol, 2 number = g^2jk8&P"
   ]
  },
  {
   "cell_type": "code",
   "execution_count": 2,
   "id": "98afb135",
   "metadata": {
    "scrolled": false
   },
   "outputs": [
    {
     "name": "stdout",
     "output_type": "stream",
     "text": [
      "t\n",
      "tV\n",
      "tVH\n",
      "tVHY\n",
      "tVHYH\n",
      "!\n",
      "!!\n",
      "!!%\n",
      "2\n",
      "29\n",
      "tVHYH!!%29\n"
     ]
    }
   ],
   "source": [
    "# password\n",
    "# Easier\n",
    "password_char=\"\"\n",
    "password_sy=\"\"\n",
    "password_nu=\"\"\n",
    "for char in range(1,nr_letters+1):\n",
    "    \n",
    "    random_char=random.choice(letters)\n",
    "    password_char=password_char+random_char\n",
    "    print(password_char)\n",
    "for char in range(1,nr_symbols+1):\n",
    "    \n",
    "    random_sy=random.choice(symbols)\n",
    "    password_sy=password_sy+random_sy\n",
    "    print(password_sy)\n",
    "    \n",
    "for char in range(1,nr_numbers+1):\n",
    "    random_nu=random.choice(numbers)\n",
    "    password_nu=password_nu+random_nu\n",
    "    print(password_nu)\n",
    "\n",
    "password=password_char+password_sy+password_nu\n",
    "print(password)   "
   ]
  },
  {
   "cell_type": "code",
   "execution_count": 3,
   "id": "abc1a5fb",
   "metadata": {},
   "outputs": [
    {
     "name": "stdout",
     "output_type": "stream",
     "text": [
      "['X']\n",
      "['X', 'F']\n",
      "['X', 'F', 'R']\n",
      "['X', 'F', 'R', 'l']\n",
      "['X', 'F', 'R', 'l', 'P']\n",
      "['X', 'F', 'R', 'l', 'P', '!']\n",
      "['X', 'F', 'R', 'l', 'P', '!', '$']\n",
      "['X', 'F', 'R', 'l', 'P', '!', '$', '$']\n",
      "['X', 'F', 'R', 'l', 'P', '!', '$', '$', '4']\n",
      "['X', 'F', 'R', 'l', 'P', '!', '$', '$', '4', '2']\n",
      "['!', 'X', 'l', '2', '$', 'F', '$', 'P', 'R', '4']\n",
      "!Xl2$F$PR4\n"
     ]
    }
   ],
   "source": [
    "# password\n",
    "# Hard\n",
    "password_list=[]\n",
    "for char in range(1,nr_letters+1):\n",
    "    \n",
    "    random_char=random.choice(letters)\n",
    "    password_list.append(random_char)\n",
    "    print(password_list)\n",
    "for char in range(1,nr_symbols+1):\n",
    "    \n",
    "    random_sy=random.choice(symbols)\n",
    "    password_list.append(random_sy)\n",
    "    print(password_list)\n",
    "    \n",
    "for char in range(1,nr_numbers+1):\n",
    "    random_nu=random.choice(numbers)\n",
    "    password_list.append(random_nu)\n",
    "    print(password_list)\n",
    "    \n",
    "random.shuffle(password_list)\n",
    "print(password_list)\n",
    "\n",
    "password=''\n",
    "for char in password_list:\n",
    "    password+=char\n",
    "    \n",
    "print(password)   "
   ]
  }
 ],
 "metadata": {
  "kernelspec": {
   "display_name": "Python 3 (ipykernel)",
   "language": "python",
   "name": "python3"
  },
  "language_info": {
   "codemirror_mode": {
    "name": "ipython",
    "version": 3
   },
   "file_extension": ".py",
   "mimetype": "text/x-python",
   "name": "python",
   "nbconvert_exporter": "python",
   "pygments_lexer": "ipython3",
   "version": "3.10.5"
  }
 },
 "nbformat": 4,
 "nbformat_minor": 5
}
