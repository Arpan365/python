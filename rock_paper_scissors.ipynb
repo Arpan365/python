{
 "cells": [
  {
   "cell_type": "code",
   "execution_count": 19,
   "id": "58fc6887",
   "metadata": {},
   "outputs": [
    {
     "name": "stdout",
     "output_type": "stream",
     "text": [
      "press 1 for rock 2 for paper and 3 for scissors :2\n",
      "Your choice is paper and Comuter choice is rock\n",
      "SO YOU WIN\n"
     ]
    }
   ],
   "source": [
    "import random\n",
    "#user_input=input(\"write rock paper or scissors :\")\n",
    "list1=[\"rock\",\"paper\",\"scissors\"]\n",
    "#random_choice=random.choice(list1)\n",
    "user_input=int(input(\"press 1 for rock 2 for paper and 3 for scissors :\"))\n",
    "random_choice=random.randint(1,3)\n",
    "Your_choice=list1[int(user_input-1)]\n",
    "Computer_choice=list1[random_choice-1]\n",
    "print(f\"Your choice is {Your_choice} and Comuter choice is {Computer_choice}\")\n",
    "\n",
    "try:\n",
    "    \n",
    "    if random_choice>=3 or random_choice<=0:\n",
    "        print(\"INVALID INPUT\")\n",
    "    elif random_choice==1 and user_input==1:\n",
    "        print(\"SO THE GAME IS DRAW\")\n",
    "    elif random_choice==3 and user_input==1:\n",
    "        print(\"SO YOU WIN\")\n",
    "    elif random_choice==2 and user_input==1:\n",
    "        print(\"SO YOU LOSE\")\n",
    "    elif random_choice==1 and user_input==2:\n",
    "        print(\"SO YOU WIN\")\n",
    "    elif random_choice==3 and user_input==2:\n",
    "        print(\"SO YOU LOSE\")\n",
    "    elif random_choice==2 and user_input==2:\n",
    "        print(\"SO THE GAME IS DRAW\")\n",
    "    elif random_choice==1 and user_input==3:\n",
    "        print(\"SO YOU LOSE\")\n",
    "    elif random_choice==3 and user_input==3:\n",
    "        print(\"SO THE GAME IS DRAW\")\n",
    "    elif random_choice==2 and user_input==3:\n",
    "        print(\"SO YOU WIN\")\n",
    "\n",
    "except:\n",
    "    print(\"INPUT THE PROPER DIGIT\")"
   ]
  },
  {
   "cell_type": "code",
   "execution_count": null,
   "id": "e8db80c6",
   "metadata": {},
   "outputs": [],
   "source": []
  },
  {
   "cell_type": "code",
   "execution_count": null,
   "id": "78b087a3",
   "metadata": {},
   "outputs": [],
   "source": []
  }
 ],
 "metadata": {
  "kernelspec": {
   "display_name": "Python 3 (ipykernel)",
   "language": "python",
   "name": "python3"
  },
  "language_info": {
   "codemirror_mode": {
    "name": "ipython",
    "version": 3
   },
   "file_extension": ".py",
   "mimetype": "text/x-python",
   "name": "python",
   "nbconvert_exporter": "python",
   "pygments_lexer": "ipython3",
   "version": "3.10.5"
  }
 },
 "nbformat": 4,
 "nbformat_minor": 5
}
